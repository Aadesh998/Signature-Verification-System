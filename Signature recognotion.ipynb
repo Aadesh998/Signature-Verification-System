{
 "cells": [
  {
   "cell_type": "markdown",
   "id": "3f72fa46",
   "metadata": {},
   "source": [
    "*** Libray import***"
   ]
  },
  {
   "cell_type": "code",
   "execution_count": null,
   "id": "b949cf17",
   "metadata": {},
   "outputs": [],
   "source": [
    "import os\n",
    "import matplotlib.pyplot as plt\n",
    "import numpy as np\n",
    "import tensorflow as tf\n",
    "from tensorflow.keras.models import Sequential\n",
    "from tensorflow.keras.layers import Conv2D,MaxPooling2D,Flatten,Dense,Dropout\n",
    "from keras.preprocessing import image\n",
    "import cv2"
   ]
  },
  {
   "cell_type": "markdown",
   "id": "13fecc33",
   "metadata": {},
   "source": [
    "*** Image Extract***"
   ]
  },
  {
   "cell_type": "code",
   "execution_count": null,
   "id": "129b85d4",
   "metadata": {},
   "outputs": [],
   "source": [
    "category = ['forged','genuines']"
   ]
  },
  {
   "cell_type": "code",
   "execution_count": null,
   "id": "69e39a9f",
   "metadata": {},
   "outputs": [],
   "source": [
    "data = []\n",
    "for i in category:\n",
    "    path = os.path.join('Machine learning/signature',i)\n",
    "    label = category.index(i)\n",
    "    for file in os.listdir(path):\n",
    "        img_path = os.path.join(path,file)\n",
    "        img = cv2.imread(img_path)\n",
    "        img = cv2.cvtColor(img,cv2.COLOR_BGR2GRAY)\n",
    "        img = cv2.resize(img,(256,256))\n",
    "        data.append([img,label])"
   ]
  },
  {
   "cell_type": "code",
   "execution_count": null,
   "id": "e6c3a8b8",
   "metadata": {},
   "outputs": [],
   "source": [
    "plt.imshow(img)"
   ]
  },
  {
   "cell_type": "code",
   "execution_count": null,
   "id": "db6db777",
   "metadata": {},
   "outputs": [],
   "source": [
    "len(data)"
   ]
  },
  {
   "cell_type": "code",
   "execution_count": null,
   "id": "6b2a5961",
   "metadata": {},
   "outputs": [],
   "source": [
    "import random"
   ]
  },
  {
   "cell_type": "code",
   "execution_count": null,
   "id": "88e8bda0",
   "metadata": {},
   "outputs": [],
   "source": [
    "random.shuffle(data)"
   ]
  },
  {
   "cell_type": "code",
   "execution_count": null,
   "id": "c40fd36f",
   "metadata": {},
   "outputs": [],
   "source": [
    "x =[]\n",
    "y=[]\n",
    "for features,label in data:\n",
    "    x.append(features)\n",
    "    y.append(label)"
   ]
  },
  {
   "cell_type": "code",
   "execution_count": null,
   "id": "338bf71d",
   "metadata": {},
   "outputs": [],
   "source": [
    "len(x)"
   ]
  },
  {
   "cell_type": "code",
   "execution_count": null,
   "id": "39e54d03",
   "metadata": {},
   "outputs": [],
   "source": [
    "len(y)"
   ]
  },
  {
   "cell_type": "code",
   "execution_count": null,
   "id": "b546cada",
   "metadata": {},
   "outputs": [],
   "source": [
    "x = np.array(x)\n",
    "y = np.array(y)"
   ]
  },
  {
   "cell_type": "code",
   "execution_count": null,
   "id": "ac6111b6",
   "metadata": {},
   "outputs": [],
   "source": [
    "x.shape"
   ]
  },
  {
   "cell_type": "code",
   "execution_count": null,
   "id": "0186d8b5",
   "metadata": {},
   "outputs": [],
   "source": [
    "y.shape"
   ]
  },
  {
   "cell_type": "code",
   "execution_count": null,
   "id": "d43f0b1c",
   "metadata": {},
   "outputs": [],
   "source": [
    "y"
   ]
  },
  {
   "cell_type": "code",
   "execution_count": null,
   "id": "62da41bf",
   "metadata": {},
   "outputs": [],
   "source": [
    "x = x/255"
   ]
  },
  {
   "cell_type": "code",
   "execution_count": null,
   "id": "44d3231d",
   "metadata": {},
   "outputs": [],
   "source": [
    "x[0]"
   ]
  },
  {
   "cell_type": "markdown",
   "id": "f90ad27b",
   "metadata": {},
   "source": [
    "***Spiliting the data***"
   ]
  },
  {
   "cell_type": "code",
   "execution_count": null,
   "id": "a8bba9c8",
   "metadata": {},
   "outputs": [],
   "source": [
    "from sklearn.model_selection import train_test_split\n",
    "x_train,x_test,y_train,y_test = train_test_split(x,y,test_size = 0.2)"
   ]
  },
  {
   "cell_type": "code",
   "execution_count": null,
   "id": "4280c7a8",
   "metadata": {},
   "outputs": [],
   "source": [
    "x_train.shape"
   ]
  },
  {
   "cell_type": "code",
   "execution_count": null,
   "id": "962a7953",
   "metadata": {},
   "outputs": [],
   "source": [
    "y_train.shape"
   ]
  },
  {
   "cell_type": "code",
   "execution_count": null,
   "id": "c5d37758",
   "metadata": {},
   "outputs": [],
   "source": [
    "x_test.shape[0]"
   ]
  },
  {
   "cell_type": "markdown",
   "id": "2fcc1695",
   "metadata": {},
   "source": [
    "***CNN Model build***"
   ]
  },
  {
   "cell_type": "code",
   "execution_count": null,
   "id": "e136ba61",
   "metadata": {},
   "outputs": [],
   "source": [
    "model = Sequential()\n",
    "\n",
    "model.add(Conv2D(32, kernel_size = (3,3),padding='same',activation='relu',input_shape=(256,256,1)))\n",
    "model.add(MaxPooling2D((2, 2)))\n",
    "\n",
    "model.add(Conv2D(64, kernel_size = (3, 3), activation='relu'))\n",
    "model.add(MaxPooling2D((2, 2)))\n",
    "\n",
    "model.add(Conv2D(128, kernel_size = (3, 3), activation='relu'))\n",
    "model.add(MaxPooling2D((2, 2)))\n",
    "\n",
    "\n",
    "model.add(Flatten())\n",
    "\n",
    "model.add(Dense(128, activation='relu'))\n",
    "model.add(Dropout(0.2))\n",
    "model.add(Dense(64, activation='relu'))\n",
    "model.add(Dropout(0.2))\n",
    "model.add(Dense(32, activation='relu'))\n",
    "model.add(Dense(2, activation='softmax'))"
   ]
  },
  {
   "cell_type": "code",
   "execution_count": null,
   "id": "365184e9",
   "metadata": {},
   "outputs": [],
   "source": [
    "model.summary()"
   ]
  },
  {
   "cell_type": "markdown",
   "id": "0022e74a",
   "metadata": {},
   "source": [
    "***Adam optimizer***"
   ]
  },
  {
   "cell_type": "code",
   "execution_count": null,
   "id": "c9bc0b3e",
   "metadata": {},
   "outputs": [],
   "source": [
    "model.compile(optimizer='Adam', loss='sparse_categorical_crossentropy', metrics=['accuracy'])"
   ]
  },
  {
   "cell_type": "code",
   "execution_count": null,
   "id": "cc35b4ea",
   "metadata": {},
   "outputs": [],
   "source": [
    "historys = model.fit(x_train, y_train, epochs=10, validation_data=(x_test,y_test))"
   ]
  },
  {
   "cell_type": "markdown",
   "id": "fd7d2195",
   "metadata": {},
   "source": [
    "***RMSProp optimizer***"
   ]
  },
  {
   "cell_type": "code",
   "execution_count": null,
   "id": "3b17cf2a",
   "metadata": {},
   "outputs": [],
   "source": [
    "# model.compile(optimizer='RMSProp', loss='binary_crossentropy', metrics=['accuracy'])"
   ]
  },
  {
   "cell_type": "code",
   "execution_count": null,
   "id": "982c9522",
   "metadata": {},
   "outputs": [],
   "source": [
    "# history = model.fit(x_train, y_train, epochs=10, validation_data=(x_test,y_test))"
   ]
  },
  {
   "cell_type": "code",
   "execution_count": null,
   "id": "0859eae5",
   "metadata": {},
   "outputs": [],
   "source": [
    "test_loss, test_accuracy = model.evaluate(x_test, y_test)\n",
    "print(\"Test accuracy of adam:\", test_accuracy)\n",
    "print(\"Test loss:\", test_loss)"
   ]
  },
  {
   "cell_type": "code",
   "execution_count": null,
   "id": "60f6888b",
   "metadata": {},
   "outputs": [],
   "source": [
    "val_loss_adam = historys.history['val_loss']\n",
    "loss_adam = historys.history['loss']\n",
    "epochs = range(1,11)\n",
    "plt.plot(epochs,loss_adam, 'b', label='loss')\n",
    "plt.plot(epochs,val_loss_adam, 'g', label='Val_loss')\n",
    "plt.title('Adam validation loss and training loss')\n",
    "plt.xlabel('Epochs')\n",
    "plt.ylabel('Loss')\n",
    "plt.legend()\n",
    "plt.show()"
   ]
  },
  {
   "cell_type": "code",
   "execution_count": null,
   "id": "1f71f318",
   "metadata": {},
   "outputs": [],
   "source": [
    "val_acc_adam = historys.history['val_accuracy']\n",
    "acc_adam = historys.history['accuracy']\n",
    "epochs = range(1,11)\n",
    "plt.plot(epochs,acc_adam, 'r', label='Accuracy')\n",
    "plt.plot(epochs,val_acc_adam, 'b', label='Val_accuracy')\n",
    "plt.title('Adam Validation accuracy and Training Accuracy')\n",
    "plt.xlabel('Epochs')\n",
    "plt.ylabel('accuracy')\n",
    "plt.legend()\n",
    "plt.show()"
   ]
  },
  {
   "cell_type": "code",
   "execution_count": null,
   "id": "6dfcdacd",
   "metadata": {},
   "outputs": [],
   "source": [
    "img = cv2.imread(r'C:\\Users\\Dell\\Machine learning\\Machine learning\\signature\\genuines\\NFI-01510015.png')\n",
    "img = cv2.cvtColor(img,cv2.COLOR_BGR2GRAY)\n",
    "img = cv2.resize(img,(256,256))\n",
    "user_image = np.expand_dims(img, axis=0) / 255.0"
   ]
  },
  {
   "cell_type": "code",
   "execution_count": null,
   "id": "56e55515",
   "metadata": {},
   "outputs": [],
   "source": [
    "user_image.shape"
   ]
  },
  {
   "cell_type": "code",
   "execution_count": null,
   "id": "b7f51ce5",
   "metadata": {},
   "outputs": [],
   "source": [
    "output = model.predict(user_image)"
   ]
  },
  {
   "cell_type": "code",
   "execution_count": null,
   "id": "50441b50",
   "metadata": {},
   "outputs": [],
   "source": [
    "output = output.argmax(axis = 1)"
   ]
  },
  {
   "cell_type": "code",
   "execution_count": null,
   "id": "b96a9d3c",
   "metadata": {},
   "outputs": [],
   "source": [
    "print(output)"
   ]
  },
  {
   "cell_type": "code",
   "execution_count": null,
   "id": "7e63536f",
   "metadata": {},
   "outputs": [],
   "source": [
    "print(int(output[0]))"
   ]
  },
  {
   "cell_type": "code",
   "execution_count": null,
   "id": "768e73ad",
   "metadata": {},
   "outputs": [],
   "source": [
    "def text_print(num):\n",
    "    if num == 1:\n",
    "        print(\"Signature is Original\")\n",
    "    else:\n",
    "        print(\"Signature is not original\")"
   ]
  },
  {
   "cell_type": "code",
   "execution_count": null,
   "id": "28555ae9",
   "metadata": {},
   "outputs": [],
   "source": [
    "num = int(output[0])\n",
    "text_print(num)"
   ]
  },
  {
   "cell_type": "code",
   "execution_count": null,
   "id": "98118c09",
   "metadata": {},
   "outputs": [],
   "source": [
    "y_pred = model.predict(x_test)"
   ]
  },
  {
   "cell_type": "code",
   "execution_count": null,
   "id": "d37fe116",
   "metadata": {},
   "outputs": [],
   "source": [
    "y_pred = y_pred.argmax(axis = 1)"
   ]
  },
  {
   "cell_type": "code",
   "execution_count": null,
   "id": "36f42e8e",
   "metadata": {},
   "outputs": [],
   "source": [
    "plt.imshow(x_test[0])"
   ]
  },
  {
   "cell_type": "code",
   "execution_count": null,
   "id": "5c949275",
   "metadata": {},
   "outputs": [],
   "source": [
    "y_pred"
   ]
  },
  {
   "cell_type": "code",
   "execution_count": null,
   "id": "70292d42",
   "metadata": {},
   "outputs": [],
   "source": [
    "y_test"
   ]
  },
  {
   "cell_type": "code",
   "execution_count": null,
   "id": "7450ddaf",
   "metadata": {},
   "outputs": [],
   "source": [
    "from sklearn.metrics import accuracy_score,f1_score,recall_score,precision_score\n",
    "a = f1_score(y_pred,y_test,average='weighted')"
   ]
  },
  {
   "cell_type": "code",
   "execution_count": null,
   "id": "ae1ef8da",
   "metadata": {},
   "outputs": [],
   "source": [
    "b = precision_score(y_pred,y_test,average='weighted')"
   ]
  },
  {
   "cell_type": "code",
   "execution_count": null,
   "id": "1f03de63",
   "metadata": {},
   "outputs": [],
   "source": [
    "c = recall_score(y_pred,y_test,average='weighted')"
   ]
  },
  {
   "cell_type": "code",
   "execution_count": null,
   "id": "d57ac25e",
   "metadata": {},
   "outputs": [],
   "source": [
    "print(\"F1_score = \",a)"
   ]
  },
  {
   "cell_type": "code",
   "execution_count": null,
   "id": "0166a179",
   "metadata": {},
   "outputs": [],
   "source": [
    "print(\"Prexision score = \",b)"
   ]
  },
  {
   "cell_type": "code",
   "execution_count": null,
   "id": "2627e305",
   "metadata": {},
   "outputs": [],
   "source": [
    "print(\"Recall score = \",c)"
   ]
  },
  {
   "cell_type": "code",
   "execution_count": null,
   "id": "79d73cde",
   "metadata": {},
   "outputs": [],
   "source": [
    "plt.plot(historys.history['loss'])\n",
    "plt.plot(historys.history['val_loss'])"
   ]
  },
  {
   "cell_type": "code",
   "execution_count": null,
   "id": "aac3c2a1",
   "metadata": {},
   "outputs": [],
   "source": [
    "plt.plot(historys.history['accuracy'],'r',label='Accuracy')\n",
    "plt.plot(historys.history['val_accuracy'],'b',label='val_Accuracy')"
   ]
  },
  {
   "cell_type": "code",
   "execution_count": null,
   "id": "4d76efe7",
   "metadata": {},
   "outputs": [],
   "source": [
    "from sklearn.metrics import confusion_matrix\n",
    "import seaborn as sns\n",
    "sns.heatmap(confusion_matrix(y_pred,y_test),annot=True,cmap='Blues')"
   ]
  },
  {
   "cell_type": "code",
   "execution_count": null,
   "id": "a520a6f5",
   "metadata": {},
   "outputs": [],
   "source": [
    "avg = (a + b + c)/3 "
   ]
  },
  {
   "cell_type": "code",
   "execution_count": null,
   "id": "dcbc603f",
   "metadata": {},
   "outputs": [],
   "source": [
    "print(\"avg accuracy = \",avg)"
   ]
  },
  {
   "cell_type": "code",
   "execution_count": null,
   "id": "bed98e4b",
   "metadata": {},
   "outputs": [],
   "source": [
    "import pickle\n",
    "pickle.dump(model,open('signature.pkl','wb'))"
   ]
  },
  {
   "cell_type": "code",
   "execution_count": null,
   "id": "1e0c7de2",
   "metadata": {},
   "outputs": [],
   "source": []
  }
 ],
 "metadata": {
  "kernelspec": {
   "display_name": "Python 3 (ipykernel)",
   "language": "python",
   "name": "python3"
  },
  "language_info": {
   "codemirror_mode": {
    "name": "ipython",
    "version": 3
   },
   "file_extension": ".py",
   "mimetype": "text/x-python",
   "name": "python",
   "nbconvert_exporter": "python",
   "pygments_lexer": "ipython3",
   "version": "3.11.4"
  }
 },
 "nbformat": 4,
 "nbformat_minor": 5
}
